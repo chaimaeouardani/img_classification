{
  "cells": [
    {
      "cell_type": "markdown",
      "metadata": {
        "id": "5b3pjAUEk2LQ"
      },
      "source": [
        "# Construire et entraîner un perceptron multi-couches - étape par étape\n",
        "\n",
        "Dans ce TP, vous allez mettre en œuvre l'entraînement d'un réseau de neurones (perceptron multi-couches) à l'aide de la librairie **numpy**. Pour cela nous allons procéder par étapes successives. Dans un premier temps nous allons traiter le cas d'un perceptron mono-couche, en commençant par la passe *forward* de prédiction d'une sortie à partir d'une entrée et des paramètres du perceptron, puis en implémentant la passe *backward* de calcul des gradients de la fonction objectif par rapport aux paramètrès. A partir de là, nous pourrons tester l'entraînement à l'aide de la descente de gradient stochastique.\n",
        "\n",
        "Une fois ces étapes achevées, nous pourrons nous atteler à la construction d'un perceptron multi-couches, qui consistera pour l'essentiel en la composition de perceptrons mono-couche. \n",
        "\n",
        "Dans ce qui suit, nous adoptons les conventions de notation suivantes : \n",
        "\n",
        "- $(x, y)$ désignent un couple donnée/label de la base d'apprentissage ; $\\hat{y}$ désigne quant à lui la prédiction du modèle sur la donnée $x$.\n",
        "\n",
        "- L'indice $i$ indique la $i^{\\text{ème}}$ dimension d'un vecteur ⇒ $a_i$\n",
        "\n",
        "- L'exposant $(k)$ désigne un objet associé au $k^{\\text{ème}}$ exemple ⇒ $a_i^{(k)}$\n",
        "\n",
        "- L'exposant $[l]$ désigne un objet associé à la $l^{\\text{ème}}$ couche ⇒ $a_i^{(k)[l]}$\n",
        "   \n",
        "Exemple:  \n",
        "- $a_5^{(2)[3]}$ indique la $5^{\\text{ème}}$ dimension du vecteur d'activation du $2^{\\text{ème}}$ exemple d'entraînement (2), de la $3^{\\text{ème}}$ couche [3].\n",
        "\n",
        "\n",
        "Commençons par importer tous les modules nécessaires : "
      ]
    },
    {
      "cell_type": "code",
      "execution_count": 233,
      "metadata": {
        "id": "R6LBs_NLla1a"
      },
      "outputs": [],
      "source": [
        "import numpy as np\n",
        "import math\n",
        "import matplotlib.pyplot as plt \n",
        "\n",
        "from sklearn.model_selection import train_test_split\n",
        "from sklearn import datasets"
      ]
    },
    {
      "cell_type": "markdown",
      "metadata": {
        "id": "3JZIXefJlXSV"
      },
      "source": [
        "# Perceptron mono-couche\n"
      ]
    },
    {
      "cell_type": "markdown",
      "metadata": {
        "id": "azdcz3QV_k-r"
      },
      "source": [
        "### Perceptron mono-couche - passe *forward*\n",
        "\n",
        "Un perceptron mono-couche est un modèle liant une couche d'entrée (en vert, qui n'effectue pas d'opération) à une couche de sortie. Les neurones des deux couches sont connectés par des liaisons pondérées (les poids synaptiques) $W_{xy}$, et les neurones de la couche de sortie portent chacun un biais additif $b_y$. Enfin, une fonction d'activation $f$ est appliquée à l'issue de ces opérations pour obtenir la prédiction du réseau $\\hat{y}$. \n",
        "\n",
        "On a donc :\n",
        "\n",
        "$$\\hat{y} = f ( W_{xy} x + b_y )$$ \n",
        "\n",
        "On posera pour la suite :\n",
        "$$ z = W_{xy} x + b_y $$\n",
        "\n",
        "La figure montre une représentation de ces opérations sous forme de réseau de neurones (à gauche), mais aussi sous une forme fonctionnelle (à droite) qui permet de bien visualiser l'ordre des opérations.\n",
        "\n",
        "<img src=\"https://drive.google.com/uc?id=1RZeiaKue0GLXJr3HRtKkuP6GD8r6I1_Q\" height=300>\n",
        "<img src=\"https://drive.google.com/uc?id=1dnQ6SSdpEX1GDTgoNTrUwA3xjiP9rTYU\" height=250> \n",
        "\n",
        "\n",
        "Notez que les paramètres du perceptron, que nous allons ajuster par un processus d'optimisation, sont donc les poids synaptiques $W_{xy}$ et les biais $b_y$. Par commodité dans le code, nous considérerons également comme un paramètre le choix de la fonction d'activation.\n",
        "\n",
        "**Remarque importante** : En pratique, on traite souvent les données par *batch*, c'est-à-dire que les prédictions sont faites pour plusieurs données simultanément. Ici pour une taille de *batch* de $m$, cela signifie en fait que :\n",
        " \n",
        "$$ x \\in \\mathbb{R}^{4 \\times m} \\text{  et  } y \\in \\mathbb{R}^{5 \\times m}$$ \n"
      ]
    },
    {
      "cell_type": "markdown",
      "metadata": {
        "id": "RBtX2euQDSCS"
      },
      "source": [
        "Complétez la fonction *dense_layer_forward* qui calcule la prédiction  d'un perceptron mono-couche pour une entrée $x$. "
      ]
    },
    {
      "cell_type": "code",
      "execution_count": 234,
      "metadata": {
        "id": "YGYbWrRfmIwx"
      },
      "outputs": [],
      "source": [
        "def dense_layer_forward(x, Wxy, by, activation):\n",
        "    \"\"\"\n",
        "    Réalise une unique étape forward de la couche dense telle que décrite dans la figure précédente\n",
        "\n",
        "    Arguments:\n",
        "    x -- l'entrée, tableau numpy de dimension (n_x, m).\n",
        "    Wxy -- Matrice de poids multipliant l'entrée, tableau numpy de shape (n_y, n_x)\n",
        "    by -- Biais additif ajouté à la sortie, tableau numpy de dimension (n_y, 1)\n",
        "    activation -- Chaîne de caractère désignant la fonction d'activation choisie : 'linear', 'sigmoid' ou 'relu'\n",
        "\n",
        "    Retourne :\n",
        "    y_pred -- prédiction, tableau numpy de dimension (n_y, m)\n",
        "    cache -- tuple des valeurs utiles pour la passe backward (rétropropagation du gradient), contient (x, z)\n",
        "    \"\"\"\n",
        "    \n",
        "    \n",
        "    \n",
        "    ### A COMPLETER  \n",
        "    # calcul de z\n",
        "    z = np.matmul(Wxy, x)  + by\n",
        "    # calcul de la sortie en appliquant la fonction d'activation\n",
        "    if activation == 'relu':\n",
        "      y_pred = np.maximum(z, 0)\n",
        "    elif activation == 'sigmoid':\n",
        "      y_pred = 1 / (1+np.exp(-z))\n",
        "    elif activation == 'linear':\n",
        "      y_pred = z\n",
        "    else:\n",
        "      print(\"Erreur : la fonction d'activation n'est pas implémentée.\")\n",
        "    \n",
        "    ### FIN\n",
        "\n",
        "    # sauvegarde du cache pour la passe backward\n",
        "    cache = (x, z)\n",
        "    \n",
        "    return y_pred, cache"
      ]
    },
    {
      "cell_type": "markdown",
      "metadata": {
        "id": "1dCFTHOqD_Tp"
      },
      "source": [
        "Exécutez les lignes suivantes pour vérifier la validité de votre code :"
      ]
    },
    {
      "cell_type": "code",
      "execution_count": 235,
      "metadata": {
        "id": "B6wlVU37on1k"
      },
      "outputs": [
        {
          "name": "stdout",
          "output_type": "stream",
          "text": [
            "y_pred.shape = \n",
            " (2, 10)\n",
            "----------------------------\n",
            "activation relu : y_pred[1] =\n",
            " [0.         1.88542399 0.65141676 1.15831024 0.         2.69223039\n",
            " 0.         1.24448658 0.         0.        ]\n",
            "----------------------------\n",
            "activation sigmoid : y_pred[1] =\n",
            " [0.08783176 0.8682329  0.65732966 0.76102554 0.18184536 0.93656662\n",
            " 0.20465886 0.776344   0.42687888 0.45334612]\n",
            "----------------------------\n",
            "activation linear : y_pred[1] =\n",
            " [-2.34040126  1.88542399  0.65141676  1.15831024 -1.50389474  2.69223039\n",
            " -1.35742662  1.24448658 -0.29459676 -0.18715995]\n"
          ]
        }
      ],
      "source": [
        "np.random.seed(1)\n",
        "x_tmp = np.random.randn(3,10)\n",
        "Wxy = np.random.randn(2,3)\n",
        "by = np.random.randn(2,1)\n",
        "\n",
        "activation = 'relu'\n",
        "y_pred_tmp, cache_tmp = dense_layer_forward(x_tmp, Wxy, by, activation)\n",
        "print(\"y_pred.shape = \\n\", y_pred_tmp.shape)\n",
        "\n",
        "print('----------------------------')\n",
        "\n",
        "print(\"activation relu : y_pred[1] =\\n\", y_pred_tmp[1])\n",
        "\n",
        "print('----------------------------')\n",
        "\n",
        "activation = 'sigmoid'\n",
        "y_pred_tmp, cache_tmp = dense_layer_forward(x_tmp, Wxy, by, activation)\n",
        "print(\"activation sigmoid : y_pred[1] =\\n\", y_pred_tmp[1])\n",
        "\n",
        "print('----------------------------')\n",
        "\n",
        "activation = 'linear'\n",
        "y_pred_tmp, cache_tmp = dense_layer_forward(x_tmp, Wxy, by, activation)\n",
        "print(\"activation linear : y_pred[1] =\\n\", y_pred_tmp[1])\n"
      ]
    },
    {
      "cell_type": "markdown",
      "metadata": {
        "id": "YYbiDw8TptiN"
      },
      "source": [
        "**Affichage attendu**: \n",
        "```Python\n",
        "y_pred.shape = \n",
        " (2, 10)\n",
        "----------------------------\n",
        "activation relu : y_pred[1] =\n",
        " [0.         2.11983968 0.88583246 1.39272594 0.         2.92664609\n",
        " 0.         1.47890228 0.         0.04725575]\n",
        "----------------------------\n",
        "activation sigmoid : y_pred[1] =\n",
        " [0.10851642 0.89281659 0.70802939 0.80102707 0.21934644 0.94914804\n",
        " 0.24545321 0.81440672 0.48495927 0.51181174]\n",
        "----------------------------\n",
        "activation linear : y_pred[1] =\n",
        " [-2.10598556  2.11983968  0.88583246  1.39272594 -1.26947904  2.92664609\n",
        " -1.12301093  1.47890228 -0.06018107  0.04725575]\n",
        "\n",
        "```"
      ]
    },
    {
      "cell_type": "markdown",
      "metadata": {
        "id": "GypgZ8jBqooR"
      },
      "source": [
        "### Perceptron mono-couche - passe *backward*\n",
        "\n",
        "Dans les librairies d'apprentissage profond actuelles, il suffit d'implémenter la passe *forward*, et la passe *backward* est réalisée automatiquement, avec le calcul des gradients (différentiation automatique) et la mise à jour des paramètres. Il est cependant intéressant de comprendre comment fonctionne la passe *backward*, en l'implémentant sur un exemple simple.\n",
        "\n",
        "<img src=\"https://drive.google.com/uc?id=1MC8Nxu6BQnpB7cGLwunIbgx9s1FaGw81\" height=350> \n",
        "\n",
        "Il faut calculer les dérivées de la fonction objectif par rapport aux différents paramètres, pour ensuite mettre à jour ces derniers pendant la descente de gradient. Les équations de calcul des gradients sont données ci-dessous (c'est un bon exercice que de les calculer à la main). \n",
        "\n",
        "\\begin{align}\n",
        "\\displaystyle dx &= \\frac{\\partial J}{\\partial x} &= { W_{xy}}^T \\: \\left( d\\hat{y} * \\frac{\\partial \\hat{y}}{\\partial z} \\right) \\tag{1}  \\\\[8pt]\n",
        "\\displaystyle  {dW_{xy}} &= \\frac{\\partial J}{\\partial W_{xy}} &= \\left( d\\hat{y} * \\frac{\\partial \\hat{y}}{\\partial z} \\right) \\: x^{T}\\tag{2} \\\\[8pt]\n",
        "\\displaystyle db_{y} &= \\frac{\\partial J}{\\partial b_y} &= \\sum_{batch} \\left( d\\hat{y} * \\frac{\\partial \\hat{y}}{\\partial z} \\right) \\tag{3} \\\\[8pt]\n",
        "\\end{align}\n",
        "\n",
        "\n",
        "Ici, $*$ indique une multiplication élément par élément tandis que l'absence de symbole indique une multiplication matricielle. Par ailleurs $d\\hat{y}$ désigne $\\frac{\\partial J}{\\partial \\hat{y}}$, $dW_{xy}$ désigne $\\frac{\\partial J}{\\partial W_{xy}}$, $db_y$ désigne $\\frac{\\partial J}{\\partial b_y}$ et $dx$ désigne $\\frac{\\partial J}{\\partial x}$ (ces noms ont été choisis pour être utilisables dans le code).\n",
        "\n",
        "Il vous reste à déterminer, par vous même, le terme $\\frac{\\partial \\hat{y}}{\\partial z}$, qui constitue en fait la dérivée de la fonction d'activation évaluée en $z$. Par exemple, pour la fonction d'activation linéaire (l'identité), la dérivée est égale à 1 pour tout $z$. A vous de déterminer, et d'implémenter, la dérivée des fonctions *sigmoid* et *relu*. **Attention aux dimensions : $\\frac{\\partial \\hat{y}}{\\partial z}$ est de même dimension que $z$ et $\\hat{y}$ !**\n",
        "\n"
      ]
    },
    {
      "cell_type": "code",
      "execution_count": 236,
      "metadata": {
        "id": "wEi_y3W_rCMc"
      },
      "outputs": [],
      "source": [
        "def dense_layer_backward(dy_hat, Wxy, by, activation, cache):\n",
        "    \"\"\"\n",
        "    Implémente la passe backward de la couche dense.\n",
        "\n",
        "    Arguments :\n",
        "    dy_hat -- Gradient de la fonction objectif par rapport à la sortie ŷ, de dimension (n_y, m)\n",
        "    Wxy -- Matrice de poids multipliant l'entrée, tableau numpy de shape (n_y, n_x)\n",
        "    by -- Biais additif ajouté à la sortie, tableau numpy de dimension (n_y, 1)\n",
        "    cache -- dictionnaire python contenant des variables utiles (issu de dense_layer_forward())\n",
        "\n",
        "    Retourne :\n",
        "    gradients -- dictionnaire python contenant les gradients suivants :\n",
        "                        dx -- Gradient de la fonction objectif par rapport aux entrées, de dimension (n_x, m)\n",
        "                        dby -- Gradient de la fonction objectif par rapport aux biais, de dimension (n_y, 1)\n",
        "                        dWxy -- Gradient de la fonction objectif par rapport aux poids synaptiques Wxy, de dimension (n_y, n_x)\n",
        "    \"\"\"\n",
        "    \n",
        "    # Récupérer les informations du cache\n",
        "    (x, z) = cache\n",
        "    \n",
        "    ### A COMPLETER    \n",
        "    # calcul de la sortie en appliquant l'activation\n",
        "    if activation == 'relu':\n",
        "      dyhat_dz = np.where(z<=0, 0, 1)\n",
        "    elif activation == 'sigmoid':\n",
        "      dyhat_dz = np.exp(-z) / np.multiply(1+np.exp(-z) , 1+np.exp(-z))\n",
        "    elif activation == 'linear':\n",
        "      dyhat_dz = np.ones((z.shape[0],z.shape[1]), dtype=int)\n",
        "    else:\n",
        "      print(\"Erreur : la fonction d'activation n'est pas implémentée.\")\n",
        "\n",
        "    produit = np.multiply(dy_hat , dyhat_dz)\n",
        "    # calculer le gradient de la perte par rapport à x\n",
        "    dx = np.matmul( np.transpose(Wxy) , produit)\n",
        "\n",
        "    # calculer le gradient de la perte par rapport à Wxy\n",
        "    dWxy = np.matmul(produit, np.transpose(x))\n",
        "    # calculer le gradient de la perte par rapport à by \n",
        "    # Attention, dby doit être de dimension (n_y, 1), pensez à positionner l'attribut\n",
        "    # keepdims de la fonction numpy.sum() à True !\n",
        "    dby = np.sum(produit, keepdims=True, axis=1)\n",
        "\n",
        "    ### FIN\n",
        "    \n",
        "    # Stocker les gradients dans un dictionnaire\n",
        "    gradients = {\"dx\": dx, \"dby\": dby, \"dWxy\": dWxy}\n",
        "    \n",
        "    return gradients"
      ]
    },
    {
      "cell_type": "markdown",
      "metadata": {
        "id": "qQGZTgx20JVm"
      },
      "source": [
        "Exécutez la cellule suivante pour vérifier la validité de votre code :"
      ]
    },
    {
      "cell_type": "code",
      "execution_count": 237,
      "metadata": {
        "id": "gGxKksOd0N2F"
      },
      "outputs": [
        {
          "name": "stdout",
          "output_type": "stream",
          "text": [
            "dimensions des différents gradients :\n",
            "dx :  (3, 10)\n",
            "dby :  (2, 1)\n",
            "dWxy :  (2, 3)\n",
            "----------------------------\n",
            "activation relu : gradients =\n",
            " {'dx': array([[ 0.        , -1.03490637, -0.25370565,  0.91166167,  0.        ,\n",
            "        -0.87533798,  0.        , -0.05523234,  0.        ,  0.        ],\n",
            "       [ 0.        , -0.70870384, -0.20148817,  0.58861627,  0.        ,\n",
            "        -0.43699238,  0.        , -0.14103828,  0.        ,  0.        ],\n",
            "       [ 0.        , -0.51772912, -0.00380154,  0.61441549,  0.        ,\n",
            "        -1.15858431,  0.        ,  0.43029667,  0.        ,  0.        ]]), 'dby': array([[0.90987415],\n",
            "       [0.80240405]]), 'dWxy': array([[-2.91191652, -2.49014166, -0.15769029],\n",
            "       [ 0.19931776, -1.36375534,  0.49006555]])}\n",
            "----------------------------\n",
            "activation sigmoid : gradients =\n",
            " {'dx': array([[-0.23929059, -0.18160378, -0.02410721,  0.1966144 ,  0.2126898 ,\n",
            "        -0.0646538 ,  0.02200378, -0.0211219 , -0.20647569, -0.54240902],\n",
            "       [-0.13905752, -0.11733533, -0.02643252,  0.12472501,  0.15369119,\n",
            "        -0.03321808,  0.01896049, -0.0311039 , -0.15670316, -0.35415425],\n",
            "       [-0.22977595, -0.12202623,  0.03196865,  0.14235557,  0.07072566,\n",
            "        -0.08139926, -0.00626097,  0.06325726, -0.0353742 , -0.34804702]]), 'dby': array([[0.74151621],\n",
            "       [0.39691685]]), 'dWxy': array([[ 0.29985744,  0.35165214, -0.14347192],\n",
            "       [-0.22278853, -0.23888578, -0.06368034]])}\n",
            "----------------------------\n",
            "activation linear : gradients =\n",
            " {'dx': array([[-1.24957905, -1.03490637, -0.12102053,  0.91166167,  1.48244289,\n",
            "        -0.87533798,  0.14141685, -0.05523234, -0.84116226, -2.23963678],\n",
            "       [-0.7391886 , -0.70870384, -0.12537673,  0.58861627,  1.06334861,\n",
            "        -0.43699238,  0.12006129, -0.14103828, -0.63891076, -1.4582823 ],\n",
            "       [-1.14209251, -0.51772912,  0.12802262,  0.61441549,  0.52789632,\n",
            "        -1.15858431, -0.03226814,  0.43029667, -0.1418173 , -1.45503003]]), 'dby': array([[3.97266086],\n",
            "       [1.34123607]]), 'dWxy': array([[-1.13528086,  0.37477333, -1.77404551],\n",
            "       [-0.92324845, -1.86932585, -0.37669553]])}\n"
          ]
        }
      ],
      "source": [
        "np.random.seed(1)\n",
        "x_tmp = np.random.randn(3,10)\n",
        "Wxy = np.random.randn(2,3)\n",
        "by = np.random.randn(2,1)\n",
        "dy_hat = np.random.randn(2, 10)\n",
        "activation = 'relu'\n",
        "y_pred_tmp, cache_tmp = dense_layer_forward(x_tmp, Wxy, by, activation)\n",
        "gradients = dense_layer_backward(dy_hat, Wxy, by, activation, cache_tmp)\n",
        "print(\"dimensions des différents gradients :\")\n",
        "print(\"dx : \", gradients['dx'].shape)\n",
        "print(\"dby : \", gradients['dby'].shape)\n",
        "print(\"dWxy : \", gradients['dWxy'].shape)\n",
        "\n",
        "print('----------------------------')\n",
        "\n",
        "print(\"activation relu : gradients =\\n\", gradients)\n",
        "\n",
        "print('----------------------------')\n",
        "\n",
        "activation = 'sigmoid'\n",
        "gradients = dense_layer_backward(dy_hat, Wxy, by, activation, cache_tmp)\n",
        "print(\"activation sigmoid : gradients =\\n\", gradients)\n",
        "\n",
        "print('----------------------------')\n",
        "\n",
        "activation = 'linear'\n",
        "gradients = dense_layer_backward(dy_hat, Wxy, by, activation, cache_tmp)\n",
        "print(\"activation linear : gradients =\\n\", gradients)"
      ]
    },
    {
      "cell_type": "markdown",
      "metadata": {
        "id": "5-_jk20X0QIt"
      },
      "source": [
        "**Affichage attendu**: \n",
        "```Python\n",
        "dimensions des différents gradients :\n",
        "dx :  (3, 10)\n",
        "dby :  (2, 1)\n",
        "dWxy :  (2, 3)\n",
        "----------------------------\n",
        "activation relu : gradients =\n",
        " {'dx': array([[ 0.        , -0.52166355, -0.25370565,  0.29772356,  0.        ,\n",
        "        -0.87533798,  0.        , -0.05523234,  0.        , -0.78697273],\n",
        "       [ 0.        , -0.4142952 , -0.20148817,  0.23644635,  0.        ,\n",
        "        -0.43699238,  0.        , -0.14103828,  0.        , -0.62499867],\n",
        "       [ 0.        , -0.00781663, -0.00380154,  0.0044611 ,  0.        ,\n",
        "        -1.15858431,  0.        ,  0.43029667,  0.        , -0.01179203]]), 'dby': array([[1.05545895],\n",
        "       [1.73350613]]), 'dWxy': array([[-3.41036427, -1.30232405, -0.56109731],\n",
        "       [-0.03287152, -0.82109488,  0.98388063]])}\n",
        "----------------------------\n",
        "activation sigmoid : gradients =\n",
        " {'dx': array([[-0.12452463, -0.16508708, -0.02939735,  0.18918939,  0.19365898,\n",
        "        -0.17366309,  0.02947078,  0.03090249, -0.20097835, -0.40773826],\n",
        "       [-0.07359731, -0.10570831, -0.02843055,  0.1189895 ,  0.14755739,\n",
        "        -0.09647417,  0.02411729,  0.00119749, -0.15435059, -0.27725739],\n",
        "       [-0.1141027 , -0.11516714,  0.02211421,  0.14152872,  0.03059908,\n",
        "        -0.18648155, -0.00271799,  0.10403474, -0.02635951, -0.21268142]]), 'dby': array([[0.51620418],\n",
        "       [0.3562789 ]]), 'dWxy': array([[-0.19619895, -0.04346631, -0.0522999 ],\n",
        "       [-0.2464412 , -0.23312061, -0.09313104]])}\n",
        "----------------------------\n",
        "activation linear : gradients =\n",
        " {'dx': array([[-1.24957905, -1.03490637, -0.12102053,  0.91166167,  1.48244289,\n",
        "        -0.87533798,  0.14141685, -0.05523234, -0.84116226, -2.23963678],\n",
        "       [-0.7391886 , -0.70870384, -0.12537673,  0.58861627,  1.06334861,\n",
        "        -0.43699238,  0.12006129, -0.14103828, -0.63891076, -1.4582823 ],\n",
        "       [-1.14209251, -0.51772912,  0.12802262,  0.61441549,  0.52789632,\n",
        "        -1.15858431, -0.03226814,  0.43029667, -0.1418173 , -1.45503003]]), 'dby': array([[3.97266086],\n",
        "       [1.34123607]]), 'dWxy': array([[-1.13528086,  0.37477333, -1.77404551],\n",
        "       [-0.92324845, -1.86932585, -0.37669553]])}\n",
        "\n",
        "```"
      ]
    },
    {
      "cell_type": "markdown",
      "metadata": {
        "id": "E5KeDgyO-ZPJ"
      },
      "source": [
        "On peut maintenant créer une classe *DenseLayer*, qui comprend en attribut toutes les informations nécessaires à la description d'une couche dense, c'est-à-dire : \n",
        "\n",
        "\n",
        "*   Le nombre de neurones en entrée de la couche dense (input_size)\n",
        "*   Le nombre de neurones en sortie de la couche dense (output_size)\n",
        "*   La fonction d'activation choisie sur cette couche (activation)\n",
        "*   Les poids synaptiques de la couche dense, stockés dans une matrice de taille (output_size, input_size) (Wxy)\n",
        "*   Les biais de la couche dense, stockés dans un vecteur de taille (output_size, 1) (by)\n",
        "\n",
        "On ajoute également un attribut cache qui permettra de stocker les entrées de la couche dense (x) ainsi que les calculs intermédiaires (z) réalisés lors de la passe *forward*, afin d'être réutilisés pour la basse *backward*.\n",
        "\n",
        "A vous de compléter les 4 jalons suivants : \n",
        "\n",
        "*   **L'initialisation des paramètres** Wxy et by : Wxy doit être positionnée suivant [l'initialisation de Glorot](https://www.tensorflow.org/api_docs/python/tf/keras/initializers/GlorotUniform), et by est initialisée par un vecteur de zéros de taille (output_size, 1).\n",
        "*   **La fonction *forward***, qui consiste simplement en un appel de la fonction *dense_layer_forward* implémentée précédemment.\n",
        "*   **La fonction *backward***, qui consiste simplement en un appel de la fonction *dense_layer_backward* implémentée précédemment.\n",
        "*   Et enfin **la fonction *update_parameters*** qui applique la mise à jour de la descente de gradient en fonction d'un taux d'apprentissage (*learning_rate*) et des gradients calculés dans la passe *forward*.\n"
      ]
    },
    {
      "cell_type": "code",
      "execution_count": 238,
      "metadata": {
        "id": "u2K9dp1IL3yM"
      },
      "outputs": [],
      "source": [
        "import tensorflow \n",
        "\n",
        "class DenseLayer:\n",
        "    def __init__(self, input_size, output_size, activation):\n",
        "      self.input_size = input_size\n",
        "      self.output_size = output_size\n",
        "      self.activation = activation\n",
        "      self.cache = None  # Le cache sera mis à jour lors de la passe forward\n",
        "      ### A COMPLETER\n",
        "      #self.Wxy = tensorflow.keras.initializers.GlorotUniform()(shape=(output_size, input_size))\n",
        "      self.Wxy =  np.random.uniform(0, 1, (input_size, output_size))\n",
        "      self.by = np.random.uniform()\n",
        "\n",
        "    def forward(self, x_batch):\n",
        "\n",
        "      y, cache = dense_layer_forward(x_batch, self.Wxy, self.by, self.activation)\n",
        "      self.cache = cache\n",
        "      return y\n",
        "\n",
        "    def backward(self, dy_hat):\n",
        "      return dense_layer_backward(dy_hat, self.Wxy, self.by, self.activation, self.cache)\n",
        "\n",
        "    def update_parameters(self, gradients, learning_rate):\n",
        "      self.Wxy -= learning_rate * gradients['dWxy']\n",
        "      self.by  -= learning_rate * gradients['dby']\n",
        "    ### FIN"
      ]
    },
    {
      "cell_type": "markdown",
      "metadata": {
        "id": "9GlEB8K3Lani"
      },
      "source": [
        "### Fonction de coût : erreur quadratique moyenne"
      ]
    },
    {
      "cell_type": "markdown",
      "metadata": {
        "id": "2KMcQzlskdI1"
      },
      "source": [
        "Pour entraîner notre modèle, nous devons mettre en place un optimiseur. Nous implémenterons la descente de gradient stochastique avec mini-batch. Il nous faut cependant au préalable implanter la fonction de coût que nous utiliserons pour évaluer la qualité de nos prédictions. \n",
        "\n",
        "Pour le moment, nous allons nous contenter d'une erreur quadratique moyenne, qui associée à une fonction d'activation linéaire (l'identité) permet de résoudre les problèmes de régression. \n",
        "\n",
        "La fonction de coût prend en entrée deux paramètres : la vérité-terrain *y_true* et la prédiction du modèle *y_pred* ($\\hat{y}$). Ces deux matrices sont de dimension $output\\text{_}size \\times bs$. La fonction retourne deux grandeurs : *loss* qui correspond à l'erreur quadratique moyenne des prédictions par rapport aux vérités-terrains, et $d\\hat{y}$ au gradient de l'erreur quadratique moyenne par rapport aux prédictions. Autrement dit : \n",
        "$$ d\\hat{y}  = \\frac{\\partial J_{mb}}{\\partial \\hat{y}}$$\n",
        "\n",
        "où $\\hat{y}$ correspond à *y_pred*, et $J_{mb}$ à la fonction objectif calculée sur un mini-batch $mb$ de données.\n",
        "\n"
      ]
    },
    {
      "cell_type": "code",
      "execution_count": 239,
      "metadata": {
        "id": "FRDUnhJma6jf"
      },
      "outputs": [],
      "source": [
        "### A COMPLETER\n",
        "def mean_square_error(y_true, y_pred):\n",
        "  \"\"\"\n",
        "  Erreur quadratique moyenne entre prédiction et vérité-terrain\n",
        "\n",
        "  Arguments :\n",
        "  y_true -- labels à prédire (vérité-terrain), de dimension (m, n_y)\n",
        "  y_pred -- prédictions du modèle, de dimension (m, n_y)\n",
        "  Retourne :\n",
        "  loss -- l'erreur quadratique moyenne entre y_true et y_pred, scalaire\n",
        "  dy_hat -- dérivée partielle de la fonction objectif par rapport à y_pred, de dimension (m, n_y)\n",
        "  \"\"\"  \n",
        "  loss = np.square(y_pred-y_true).mean()\n",
        "  dy_hat = (2 / y_true.shape[0]) * (y_pred - y_true)\n",
        "  return loss, dy_hat"
      ]
    },
    {
      "cell_type": "markdown",
      "metadata": {
        "id": "eNbVKV5K0hWp"
      },
      "source": [
        "Testez votre implémentation avec ce bloc de code : "
      ]
    },
    {
      "cell_type": "code",
      "execution_count": 240,
      "metadata": {
        "id": "Wt-ensXM0jL1"
      },
      "outputs": [
        {
          "name": "stdout",
          "output_type": "stream",
          "text": [
            "loss =  2.0281433227730186\n",
            "dy_hat = \n",
            " [[-0.46320122  0.04300058 -0.03180019]\n",
            " [ 0.0455526  -0.30733075  0.45777482]\n",
            " [-0.57242442  0.19912452  0.26815262]\n",
            " [ 0.19828291 -0.3307887   0.23450235]\n",
            " [-0.08494822  0.41530179 -0.21659234]\n",
            " [ 0.09257912  0.07266874  0.59562271]\n",
            " [ 0.01558904  0.00687758  0.2801579 ]\n",
            " [-0.29939471 -0.40882178 -0.17036741]\n",
            " [-0.22195004  0.25407021  0.19237473]\n",
            " [ 0.3733743   0.11069508  0.07095714]]\n"
          ]
        }
      ],
      "source": [
        "np.random.seed(1)\n",
        "y_true = np.random.randn(10,3)\n",
        "y_pred = np.random.randn(10,3)\n",
        "\n",
        "loss, dy_hat = mean_square_error(y_true, y_pred)\n",
        "print(\"loss = \", loss)\n",
        "print(\"dy_hat = \\n\", dy_hat)\n"
      ]
    },
    {
      "cell_type": "markdown",
      "metadata": {
        "id": "2RcgS5JJ0lcY"
      },
      "source": [
        "**Affichage attendu**: \n",
        "```Python\n",
        "loss =  2.0281433227730186\n",
        "dy_hat = \n",
        " [[-0.46320122  0.04300058 -0.03180019]\n",
        " [ 0.0455526  -0.30733075  0.45777482]\n",
        " [-0.57242442  0.19912452  0.26815262]\n",
        " [ 0.19828291 -0.3307887   0.23450235]\n",
        " [-0.08494822  0.41530179 -0.21659234]\n",
        " [ 0.09257912  0.07266874  0.59562271]\n",
        " [ 0.01558904  0.00687758  0.2801579 ]\n",
        " [-0.29939471 -0.40882178 -0.17036741]\n",
        " [-0.22195004  0.25407021  0.19237473]\n",
        " [ 0.3733743   0.11069508  0.07095714]]\n",
        "\n",
        "```"
      ]
    },
    {
      "cell_type": "markdown",
      "metadata": {
        "id": "uZRnPbBjQvZc"
      },
      "source": [
        "### Descente de gradient stochastique"
      ]
    },
    {
      "cell_type": "markdown",
      "metadata": {
        "id": "w2XnUBj2n-Df"
      },
      "source": [
        "La descente de gradient stochastique prend en entrée les paramètres suivants :  \n",
        "*    *x_train* et *y_train* respectivement les données et labels de l'ensemble d'apprentissage (que l'on suppose de taille $N$).\n",
        "*    *model* une instance du modèle que l'on veut entraîner (qui doit implanter les 3 fonctions vues précédemment *forward*, *backward* et *update_parameters*).\n",
        "*    *loss_function* peut prendre deux valeurs : 'mse' (erreur quadratique moyenne) ou 'bce' (entropie croisée binaire, que nous implémenterons par la suite).\n",
        "*    *learning_rate* le taux d'apprentissage choisi pour la descente de gradient.\n",
        "*    *epochs* le nombre de parcours complets de l'ensemble d'apprentissage que l'on veut réaliser.\n",
        "*    *batch_size* la taille de mini-batch désirée pour la descente de gradient stochastique. \n",
        "\n",
        "L'algorithme à implémenter est rappelé ci-dessous :       \n",
        "```\n",
        "N_batch = floor(N/batch_size)\n",
        "\n",
        "Répéter epochs fois\n",
        "\n",
        "  Pour b de 1 à N_batch Faire\n",
        "\n",
        "    - Sélectionner les données x_train_batch et labels y_train_batch du b-ème mini-batch\n",
        "    - Calculer la prédiction y_pred_batch du modèle pour ce mini-batch\n",
        "    - Calculer la perte batch_loss et le gradient de la perte batch_grad par rapport aux prédictions sur ce mini-batch\n",
        "    - Calculer les gradients de la perte par rapport à chaque paramètre du modèle\n",
        "    - Mettre à jour les paramètres du modèle \n",
        "\n",
        "  Fin Pour\n",
        "\n",
        "Fin Répéter\n",
        "\n",
        "```\n",
        "Deux remarques additionnelles :    \n",
        "1. A chaque *epoch*, les *mini-batches* doivent être différents (les données doivent être réparties dans différents *mini-batches*).\n",
        "2. Il est intéressant de calculer (et d'afficher !) la perte moyennée sur l'ensemble d'apprentissage à chaque *epoch*. Pour cela, on peut accumuler les pertes de chaque *mini-batch* sur une *epoch* et diviser l'ensemble par le nombre de *mini-batches*."
      ]
    },
    {
      "cell_type": "code",
      "execution_count": 241,
      "metadata": {
        "id": "lk3lypUOLXbv"
      },
      "outputs": [],
      "source": [
        "def SGD(x_train, y_train, model, loss_function, learning_rate=0.03, epochs=10, batch_size=10):\n",
        "  \"\"\"\n",
        "  Implémente la descente de gradient stochastique\n",
        "\n",
        "  Arguments :\n",
        "  x_train -- Les données d'apprentissage, de dimension (N, n_x) ; ATTENTION ces\n",
        "             dimensions sont inversées par rapport aux premiers exercices\n",
        "  y_train -- Les labels d'apprentissage, de dimension (N, n_y)\n",
        "  model -- Le modèle initialisé, à optimiser.\n",
        "  loss_function -- la fonction de coût à utiliser pour l'optimisation, qui pourra\n",
        "                   être 'mse' (erreur quadratique moyenne) ou 'bce' (entropie croisée binaire)\n",
        "  learning_rate -- le taux d'apprentissage pour la descente de gradient\n",
        "  epochs -- le nombre de parcours complets de l'ensemble d'apprentissage\n",
        "  batch_size -- le nombre d'éléments considérés dans chaque mini-batch de données\n",
        "\n",
        "  Retourne :\n",
        "  model -- le modèle obtenu à la fin du processus d'optimisation\n",
        "  \"\"\"  \n",
        "  # Nombre de batches par epoch\n",
        "  nb_batches = math.floor(x_train.shape[0] / batch_size)\n",
        "\n",
        "  # Pour gérer le tirage aléatoire des batches parmi les données d'entraînement... \n",
        "  indices = np.arange(x_train.shape[0])\n",
        "\n",
        "  for e in range(epochs):\n",
        "\n",
        "    running_loss = 0\n",
        "\n",
        "    # Nouvelle permutation des indices pour la prochaine epoch\n",
        "    indices = np.random.permutation(indices)\n",
        "\n",
        "    for b in range(nb_batches):\n",
        "\n",
        "      # Sélection des données du batch courant\n",
        "      x_train_batch = x_train[indices[b*batch_size:(b+1)*batch_size]]\n",
        "      y_train_batch = y_train[indices[b*batch_size:(b+1)*batch_size]]\n",
        "\n",
        "      ### A COMPLETER\n",
        "      # Prédiction du modèle pour le batch courant\n",
        "      # ATTENTION, le batch est de dimension (batch_size, n_x) !!!\n",
        "      #by_batch =  np.zeros( (batch_size, x_train.shape[1]), dtype=float, order='C')\n",
        "      y_pred_batch , cache = dense_layer_forward(x_train_batch , model.Wxy, model.by, model.activation)\n",
        "      # Calcul de la fonction objectif et de son gradient sur le batch courant\n",
        "      if loss_function == 'mse':\n",
        "        batch_loss, batch_dy_hat = mean_square_error(y_train_batch, y_pred_batch)\n",
        "      elif loss_function == 'bce':\n",
        "        batch_loss, batch_dy_hat = binary_cross_entropy(y_train_batch, y_pred_batch)\n",
        "      running_loss += batch_loss \n",
        "\n",
        "      # Calcul du gradient de la perte par rapport aux paramètres du modèle\n",
        "      param_updates = dense_layer_backward(batch_dy_hat,model.Wxy, model.by, model.activation, cache)\n",
        "\n",
        "      # Mise à jour des paramètres du modèle\n",
        "      model.update_parameters(param_updates, learning_rate)\n",
        "      ### FIN\n",
        "\n",
        "    print(f\"Epoch {e:4d} : Loss {running_loss/nb_batches:.4f}\")\n",
        " \n",
        "    \n",
        "  return model\n"
      ]
    },
    {
      "cell_type": "markdown",
      "metadata": {
        "id": "9bybDhHivjXq"
      },
      "source": [
        "### Test sur un problème de régression "
      ]
    },
    {
      "cell_type": "markdown",
      "metadata": {
        "id": "N7q44eS0vrrZ"
      },
      "source": [
        "Le bloc de code suivant permet de générer et d'afficher un ensemble de données pour un problème de régression linéaire classique. "
      ]
    },
    {
      "cell_type": "code",
      "execution_count": 242,
      "metadata": {
        "id": "nGcIVuALraDG"
      },
      "outputs": [
        {
          "data": {
            "image/png": "[encoded data removed]",
            "text/plain": [
              "<Figure size 432x288 with 1 Axes>"
            ]
          },
          "metadata": {
            "needs_background": "light"
          },
          "output_type": "display_data"
        }
      ],
      "source": [
        "x, y = datasets.make_regression(n_samples=250, n_features=1, n_targets=1, random_state=1, noise=10)\n",
        "\n",
        "plt.plot(x, y, 'b.', label='Ensemble d\\'apprentissage')\n",
        "\n",
        "plt.legend()\n",
        "plt.show()"
      ]
    },
    {
      "cell_type": "markdown",
      "metadata": {
        "id": "q7lfdRFMRFZH"
      },
      "source": [
        "A vous de déterminer le nombre de neurones à positionner en entrée et en sortie du perceptron monocouche pour résoudre ce problème. Une fois ceci fait, le code ci-après affiche également la prédiction de votre modèle."
      ]
    },
    {
      "cell_type": "code",
      "execution_count": 243,
      "metadata": {
        "id": "GKFJ3c2MmomL"
      },
      "outputs": [
        {
          "ename": "ValueError",
          "evalue": "matmul: Input operand 1 has a mismatch in its core dimension 0, with gufunc signature (n?,k),(k,m?)->(n?,m?) (size 20 is different from 250)",
          "output_type": "error",
          "traceback": [
            "\u001b[0;31m---------------------------------------------------------------------------\u001b[0m",
            "\u001b[0;31mValueError\u001b[0m                                Traceback (most recent call last)",
            "\u001b[1;32m/home/n7student/n7_s2/deep_learning/TP_Réseaux_de_Neurones_avec_Numpy_Sujet.ipynb Cell 30'\u001b[0m in \u001b[0;36m<cell line: 3>\u001b[0;34m()\u001b[0m\n\u001b[1;32m      <a href='vscode-notebook-cell:/home/n7student/n7_s2/deep_learning/TP_R%C3%A9seaux_de_Neurones_avec_Numpy_Sujet.ipynb#ch0000029?line=0'>1</a>\u001b[0m \u001b[39m### A COMPLETER\u001b[39;00m\n\u001b[1;32m      <a href='vscode-notebook-cell:/home/n7student/n7_s2/deep_learning/TP_R%C3%A9seaux_de_Neurones_avec_Numpy_Sujet.ipynb#ch0000029?line=1'>2</a>\u001b[0m model \u001b[39m=\u001b[39m DenseLayer(\u001b[39m50\u001b[39m, x\u001b[39m.\u001b[39mshape[\u001b[39m0\u001b[39m], \u001b[39m'\u001b[39m\u001b[39msigmoid\u001b[39m\u001b[39m'\u001b[39m)\n\u001b[0;32m----> <a href='vscode-notebook-cell:/home/n7student/n7_s2/deep_learning/TP_R%C3%A9seaux_de_Neurones_avec_Numpy_Sujet.ipynb#ch0000029?line=2'>3</a>\u001b[0m model \u001b[39m=\u001b[39m SGD(x, y, model, \u001b[39m'\u001b[39;49m\u001b[39mmse\u001b[39;49m\u001b[39m'\u001b[39;49m, learning_rate\u001b[39m=\u001b[39;49m\u001b[39m0.1\u001b[39;49m, epochs\u001b[39m=\u001b[39;49m\u001b[39m10\u001b[39;49m, batch_size\u001b[39m=\u001b[39;49m\u001b[39m20\u001b[39;49m)\n\u001b[1;32m      <a href='vscode-notebook-cell:/home/n7student/n7_s2/deep_learning/TP_R%C3%A9seaux_de_Neurones_avec_Numpy_Sujet.ipynb#ch0000029?line=3'>4</a>\u001b[0m \u001b[39m### FIN\u001b[39;00m\n\u001b[1;32m      <a href='vscode-notebook-cell:/home/n7student/n7_s2/deep_learning/TP_R%C3%A9seaux_de_Neurones_avec_Numpy_Sujet.ipynb#ch0000029?line=5'>6</a>\u001b[0m plt\u001b[39m.\u001b[39mplot(x, y, \u001b[39m'\u001b[39m\u001b[39mb.\u001b[39m\u001b[39m'\u001b[39m, label\u001b[39m=\u001b[39m\u001b[39m'\u001b[39m\u001b[39mEnsemble d\u001b[39m\u001b[39m\\'\u001b[39;00m\u001b[39mapprentissage\u001b[39m\u001b[39m'\u001b[39m)\n",
            "\u001b[1;32m/home/n7student/n7_s2/deep_learning/TP_Réseaux_de_Neurones_avec_Numpy_Sujet.ipynb Cell 25'\u001b[0m in \u001b[0;36mSGD\u001b[0;34m(x_train, y_train, model, loss_function, learning_rate, epochs, batch_size)\u001b[0m\n\u001b[1;32m     <a href='vscode-notebook-cell:/home/n7student/n7_s2/deep_learning/TP_R%C3%A9seaux_de_Neurones_avec_Numpy_Sujet.ipynb#ch0000024?line=35'>36</a>\u001b[0m y_train_batch \u001b[39m=\u001b[39m y_train[indices[b\u001b[39m*\u001b[39mbatch_size:(b\u001b[39m+\u001b[39m\u001b[39m1\u001b[39m)\u001b[39m*\u001b[39mbatch_size]]\n\u001b[1;32m     <a href='vscode-notebook-cell:/home/n7student/n7_s2/deep_learning/TP_R%C3%A9seaux_de_Neurones_avec_Numpy_Sujet.ipynb#ch0000024?line=37'>38</a>\u001b[0m \u001b[39m### A COMPLETER\u001b[39;00m\n\u001b[1;32m     <a href='vscode-notebook-cell:/home/n7student/n7_s2/deep_learning/TP_R%C3%A9seaux_de_Neurones_avec_Numpy_Sujet.ipynb#ch0000024?line=38'>39</a>\u001b[0m \u001b[39m# Prédiction du modèle pour le batch courant\u001b[39;00m\n\u001b[1;32m     <a href='vscode-notebook-cell:/home/n7student/n7_s2/deep_learning/TP_R%C3%A9seaux_de_Neurones_avec_Numpy_Sujet.ipynb#ch0000024?line=39'>40</a>\u001b[0m \u001b[39m# ATTENTION, le batch est de dimension (batch_size, n_x) !!!\u001b[39;00m\n\u001b[1;32m     <a href='vscode-notebook-cell:/home/n7student/n7_s2/deep_learning/TP_R%C3%A9seaux_de_Neurones_avec_Numpy_Sujet.ipynb#ch0000024?line=40'>41</a>\u001b[0m \u001b[39m#by_batch =  np.zeros( (batch_size, x_train.shape[1]), dtype=float, order='C')\u001b[39;00m\n\u001b[0;32m---> <a href='vscode-notebook-cell:/home/n7student/n7_s2/deep_learning/TP_R%C3%A9seaux_de_Neurones_avec_Numpy_Sujet.ipynb#ch0000024?line=41'>42</a>\u001b[0m y_pred_batch , cache \u001b[39m=\u001b[39m dense_layer_forward(x_train_batch , model\u001b[39m.\u001b[39;49mWxy, model\u001b[39m.\u001b[39;49mby, model\u001b[39m.\u001b[39;49mactivation)\n\u001b[1;32m     <a href='vscode-notebook-cell:/home/n7student/n7_s2/deep_learning/TP_R%C3%A9seaux_de_Neurones_avec_Numpy_Sujet.ipynb#ch0000024?line=42'>43</a>\u001b[0m \u001b[39m# Calcul de la fonction objectif et de son gradient sur le batch courant\u001b[39;00m\n\u001b[1;32m     <a href='vscode-notebook-cell:/home/n7student/n7_s2/deep_learning/TP_R%C3%A9seaux_de_Neurones_avec_Numpy_Sujet.ipynb#ch0000024?line=43'>44</a>\u001b[0m \u001b[39mif\u001b[39;00m loss_function \u001b[39m==\u001b[39m \u001b[39m'\u001b[39m\u001b[39mmse\u001b[39m\u001b[39m'\u001b[39m:\n",
            "\u001b[1;32m/home/n7student/n7_s2/deep_learning/TP_Réseaux_de_Neurones_avec_Numpy_Sujet.ipynb Cell 6'\u001b[0m in \u001b[0;36mdense_layer_forward\u001b[0;34m(x, Wxy, by, activation)\u001b[0m\n\u001b[1;32m      <a href='vscode-notebook-cell:/home/n7student/n7_s2/deep_learning/TP_R%C3%A9seaux_de_Neurones_avec_Numpy_Sujet.ipynb#ch0000005?line=1'>2</a>\u001b[0m \u001b[39m\"\"\"\u001b[39;00m\n\u001b[1;32m      <a href='vscode-notebook-cell:/home/n7student/n7_s2/deep_learning/TP_R%C3%A9seaux_de_Neurones_avec_Numpy_Sujet.ipynb#ch0000005?line=2'>3</a>\u001b[0m \u001b[39mRéalise une unique étape forward de la couche dense telle que décrite dans la figure précédente\u001b[39;00m\n\u001b[1;32m      <a href='vscode-notebook-cell:/home/n7student/n7_s2/deep_learning/TP_R%C3%A9seaux_de_Neurones_avec_Numpy_Sujet.ipynb#ch0000005?line=3'>4</a>\u001b[0m \n\u001b[0;32m   (...)\u001b[0m\n\u001b[1;32m     <a href='vscode-notebook-cell:/home/n7student/n7_s2/deep_learning/TP_R%C3%A9seaux_de_Neurones_avec_Numpy_Sujet.ipynb#ch0000005?line=12'>13</a>\u001b[0m \u001b[39mcache -- tuple des valeurs utiles pour la passe backward (rétropropagation du gradient), contient (x, z)\u001b[39;00m\n\u001b[1;32m     <a href='vscode-notebook-cell:/home/n7student/n7_s2/deep_learning/TP_R%C3%A9seaux_de_Neurones_avec_Numpy_Sujet.ipynb#ch0000005?line=13'>14</a>\u001b[0m \u001b[39m\"\"\"\u001b[39;00m\n\u001b[1;32m     <a href='vscode-notebook-cell:/home/n7student/n7_s2/deep_learning/TP_R%C3%A9seaux_de_Neurones_avec_Numpy_Sujet.ipynb#ch0000005?line=17'>18</a>\u001b[0m \u001b[39m### A COMPLETER  \u001b[39;00m\n\u001b[1;32m     <a href='vscode-notebook-cell:/home/n7student/n7_s2/deep_learning/TP_R%C3%A9seaux_de_Neurones_avec_Numpy_Sujet.ipynb#ch0000005?line=18'>19</a>\u001b[0m \u001b[39m# calcul de z\u001b[39;00m\n\u001b[0;32m---> <a href='vscode-notebook-cell:/home/n7student/n7_s2/deep_learning/TP_R%C3%A9seaux_de_Neurones_avec_Numpy_Sujet.ipynb#ch0000005?line=19'>20</a>\u001b[0m z \u001b[39m=\u001b[39m np\u001b[39m.\u001b[39;49mmatmul(Wxy, x)\n\u001b[1;32m     <a href='vscode-notebook-cell:/home/n7student/n7_s2/deep_learning/TP_R%C3%A9seaux_de_Neurones_avec_Numpy_Sujet.ipynb#ch0000005?line=20'>21</a>\u001b[0m \u001b[39m# calcul de la sortie en appliquant la fonction d'activation\u001b[39;00m\n\u001b[1;32m     <a href='vscode-notebook-cell:/home/n7student/n7_s2/deep_learning/TP_R%C3%A9seaux_de_Neurones_avec_Numpy_Sujet.ipynb#ch0000005?line=21'>22</a>\u001b[0m \u001b[39mif\u001b[39;00m activation \u001b[39m==\u001b[39m \u001b[39m'\u001b[39m\u001b[39mrelu\u001b[39m\u001b[39m'\u001b[39m:\n",
            "\u001b[0;31mValueError\u001b[0m: matmul: Input operand 1 has a mismatch in its core dimension 0, with gufunc signature (n?,k),(k,m?)->(n?,m?) (size 20 is different from 250)"
          ]
        }
      ],
      "source": [
        "### A COMPLETER\n",
        "model = DenseLayer(50, x.shape[0], 'sigmoid')\n",
        "model = SGD(x, y, model, 'mse', learning_rate=0.1, epochs=10, batch_size=20)\n",
        "### FIN\n",
        "\n",
        "plt.plot(x, y, 'b.', label='Ensemble d\\'apprentissage')\n",
        "\n",
        "x_gen = np.expand_dims(np.linspace(-3, 3, 10), 1)\n",
        "y_gen = np.transpose(model.forward(np.transpose(x_gen)))\n",
        "\n",
        "plt.plot(x_gen, y_gen, 'g-', label='Prédiction du modèle')\n",
        "plt.legend()\n",
        "plt.show()"
      ]
    },
    {
      "cell_type": "markdown",
      "metadata": {
        "id": "mA9-6PqLwff4"
      },
      "source": [
        "### Test sur un problème de classification binaire"
      ]
    },
    {
      "cell_type": "markdown",
      "metadata": {
        "id": "K9AHAgGBwjro"
      },
      "source": [
        "Afin de pouvoir tester notre perceptron mono-couche sur un problème de classification binaire (i.e. effectuer une régression logistique), il est d'abord nécessaire d'implémenter l'entropie croisée binaire.\n",
        "\n",
        "Rappel :      \n",
        "$$ bce(y, \\hat{y}) = -y  log(\\hat{y}) - (1-y)  log(1-\\hat{y}) $$"
      ]
    },
    {
      "cell_type": "code",
      "execution_count": null,
      "metadata": {
        "id": "_xCXP-pQb2oL"
      },
      "outputs": [],
      "source": [
        "### A COMPLETER\n",
        "def binary_cross_entropy(y_true, y_pred):\n",
        "  one = np.ones(y_true.shape[0], y_true.shape[1])\n",
        "  loss = - np.multiply(-y_true , np.log(y_pred)) - np.multiply((one - y_true), np.log(one- y_pred))\n",
        "  grad = - np.log(y_pred) + np.log(one- y_pred)\n",
        "\n",
        "  return loss, grad"
      ]
    },
    {
      "cell_type": "markdown",
      "metadata": {
        "id": "0L3pPIpfSVU7"
      },
      "source": [
        "Le bloc de code suivant permet de générer et d'afficher un ensemble de données pour un problème de classification binaire classique. "
      ]
    },
    {
      "cell_type": "code",
      "execution_count": null,
      "metadata": {
        "id": "4AxQRaegdntx"
      },
      "outputs": [
        {
          "data": {
            "image/png": "[encoded data removed]",
            "text/plain": [
              "<Figure size 432x288 with 1 Axes>"
            ]
          },
          "metadata": {
            "needs_background": "light"
          },
          "output_type": "display_data"
        }
      ],
      "source": [
        "from sklearn.model_selection import train_test_split\n",
        "from sklearn import datasets\n",
        "import matplotlib.pyplot as plt \n",
        "\n",
        "\n",
        "x, y = datasets.make_blobs(n_samples=250, n_features=2, centers=2, center_box=(- 3, 3), random_state=1)\n",
        "\n",
        "plt.plot(x[y==0,0], x[y==0,1], 'b.')\n",
        "plt.plot(x[y==1,0], x[y==1,1], 'r.')\n",
        "\n",
        "plt.show()"
      ]
    },
    {
      "cell_type": "markdown",
      "metadata": {
        "id": "X7o-u0kcSk_l"
      },
      "source": [
        "A nouveau, vous devez déterminer le nombre de neurones à positionner en entrée et en sortie du perceptron monocouche pour résoudre ce problème. Une fois ceci fait, le code ci-après affiche également la prédiction de votre modèle."
      ]
    },
    {
      "cell_type": "code",
      "execution_count": null,
      "metadata": {
        "id": "TdyntT9zSrum"
      },
      "outputs": [],
      "source": [
        "### A COMPLETER\n",
        "model = DenseLayer(8, 8, 'sigmoid')\n",
        "model = SGD(x, y, model, 'bce' , learning_rate=0.3, epochs=50, batch_size=20)\n",
        "### FIN\n",
        "\n",
        "plt.plot(x[y==0,0], x[y==0,1], 'b.')\n",
        "plt.plot(x[y==1,0], x[y==1,1], 'r.')\n",
        "\n",
        "x1_gen = np.linspace(-6, 2, 10)\n",
        "x2_gen = -model.Wxy[0,0]*x1_gen/model.Wxy[0,1] - model.by[0,0]/model.Wxy[0,1]\n",
        "\n",
        "plt.plot(x1_gen, x2_gen, 'g-')\n",
        "\n",
        "plt.show()"
      ]
    },
    {
      "cell_type": "markdown",
      "metadata": {
        "id": "Ypq84RCl0bnI"
      },
      "source": [
        "## Test sur un problème de classification binaire plus complexe"
      ]
    },
    {
      "cell_type": "markdown",
      "metadata": {
        "id": "6OPzEofrSrSF"
      },
      "source": [
        "Testons maintenant un problème de classification plus complexe : "
      ]
    },
    {
      "cell_type": "code",
      "execution_count": null,
      "metadata": {
        "id": "_IQdphRV0hsB"
      },
      "outputs": [],
      "source": [
        "x, y = datasets.make_gaussian_quantiles(n_samples=250, n_features=2, n_classes=2, random_state=1)\n",
        "\n",
        "plt.plot(x[y==0,0], x[y==0,1], 'r.')\n",
        "plt.plot(x[y==1,0], x[y==1,1], 'b.')\n",
        "\n",
        "plt.show()"
      ]
    },
    {
      "cell_type": "markdown",
      "metadata": {
        "id": "8Ol3eqKGSyC5"
      },
      "source": [
        "Le code ci-dessous vous permettra d'afficher la frontière de décision établie par votre modèle :"
      ]
    },
    {
      "cell_type": "code",
      "execution_count": null,
      "metadata": {
        "id": "lN8d7YK76MBm"
      },
      "outputs": [],
      "source": [
        "def print_decision_boundaries(model, x, y):\n",
        "  dx, dy = 0.1, 0.1\n",
        "  y_grid, x_grid = np.mgrid[slice(-4, 4 + dy, dy),\n",
        "                  slice(-4, 4 + dx, dx)]\n",
        "\n",
        "\n",
        "  x_gen = np.concatenate((np.expand_dims(np.reshape(y_grid, (-1)),1),np.expand_dims(np.reshape(x_grid, (-1)),1)), axis=1)\n",
        "  z_gen = model.forward(np.transpose(x_gen)).reshape(x_grid.shape)\n",
        "\n",
        "  z_min, z_max = 0, 1\n",
        "\n",
        "  c = plt.pcolor(x_grid, y_grid, z_gen, cmap='RdBu', vmin=z_min, vmax=z_max)\n",
        "  plt.colorbar(c)\n",
        "  plt.plot(x[y==0,0], x[y==0,1], 'r.')\n",
        "  plt.plot(x[y==1,0], x[y==1,1], 'b.')\n",
        "  plt.show()"
      ]
    },
    {
      "cell_type": "markdown",
      "metadata": {
        "id": "SRNifc8KS_MM"
      },
      "source": [
        "Complétez le code ci-dessous :"
      ]
    },
    {
      "cell_type": "code",
      "execution_count": null,
      "metadata": {
        "id": "E9WV-Az70mR6"
      },
      "outputs": [],
      "source": [
        "### A COMPLETER\n",
        "model = DenseLayer(..., ..., ...)\n",
        "model = SGD(x, y, model, ..., learning_rate=0.3, epochs=50, batch_size=20)\n",
        "### FIN\n",
        "\n",
        "print_decision_boundaries(model, x, y)"
      ]
    },
    {
      "cell_type": "markdown",
      "metadata": {
        "id": "J9jMU_YcTAJl"
      },
      "source": [
        "Cette fois-ci il n'est pas possible de faire résoudre un problème aussi \"complexe\" à notre simple perceptron monocouche. Nous allons pour cela devoir passer au perceptron multi-couches !"
      ]
    },
    {
      "cell_type": "markdown",
      "metadata": {
        "id": "yiGyXLvum0uI"
      },
      "source": [
        "---"
      ]
    },
    {
      "cell_type": "markdown",
      "metadata": {
        "id": "HIEVrFXkDdMD"
      },
      "source": [
        "# Perceptron multi-couches"
      ]
    },
    {
      "cell_type": "markdown",
      "metadata": {
        "id": "6ZWNGM7vVlCb"
      },
      "source": [
        "## Implémentation du perceptron multi-couches"
      ]
    },
    {
      "cell_type": "markdown",
      "metadata": {
        "id": "1a6VuuWODu8G"
      },
      "source": [
        "A partir du perceptron mono-couche créé précédemment, nous pouvons maintenant implémenter un perceptron multi-couches, qui est un véritable réseau de neurones dans la mesure où il met en jeu plusieurs couches de neurones successives. **Concrètement, le perceptron multi-couches est une composition de perceptron monocouches**, chacun prenant en entrée l'activation de sortie de la couche précédente. Prenons l'exemple ci-dessous : \n",
        "\n",
        "<img src=\"https://drive.google.com/uc?id=1ILboVqVVwy71lqAwM3ZGm6umCQegvmuV\" height=350> \n",
        "\n",
        "\n",
        "Ce perceptron multi-couches est la composition de deux perceptrons monocouches, le premier liant deux neurones d'entrée à deux neurones de sortie, et le second deux neurones d'entrée à un neurone de sortie.\n",
        "\n",
        "<img src=\"https://drive.google.com/uc?id=1hyrrsf8ZpqUcy2_T89HbQX7fpmqtbNwa\" height=350> \n",
        "\n",
        "Voici comment nous l'implémenterons : le perceptron multi-couches consiste simplement en une liste de perceptrons monocouches (*DenseLayer*). A l'initialisation, le perceptron multi-couches est une liste vide, dans laquelle il est possible d'ajouter des couches denses (fonction *add_layer()*). \n",
        "\n",
        "```python\n",
        "model = MultiLayerPerceptron()\n",
        "model.add_layer(DenseLayer(2, 2, 'relu'))\n",
        "model.add_layer(DenseLayer(2, 1, 'sigmoid'))\n",
        "```\n",
        "\n",
        "La fonction *forward()* du perceptron multi-couches consiste en le calcul successif de la sortie des couches denses. Chaque couche dense effectue une prédiction sur la sortie de la couche dense précédente.\n",
        "\n",
        "La fonction *backward()* implémente l'algorithme de rétro-propagation du gradient. Les gradients des paramètres de la dernière couche sont calculés en premier, et sont utilisés pour calculer les gradients de la couche précédente, comme illustré sur cette figure.\n",
        "\n",
        "<img src=\"https://drive.google.com/uc?id=1KVH0DWbAwT7R6-XmpqmpWob1jqftqC84\" height=350> "
      ]
    },
    {
      "cell_type": "code",
      "execution_count": null,
      "metadata": {
        "id": "RNhqq0KXm4Jd"
      },
      "outputs": [],
      "source": [
        "class MultiLayerPerceptron:\n",
        "    def __init__(self):\n",
        "      # Initialisation de la liste de couches du perceptron multi-couches à la liste vide\n",
        "      self.layers = []\n",
        "\n",
        "    # Fonction permettant d'ajouter la couche passée en paramètre dans la liste de couches\n",
        "    # du perceptron multi-couches\n",
        "    def add_layer(self, layer):\n",
        "      self.layers.append(layer)\n",
        "\n",
        "    # Fonction réalisant la prédiction du perceptron multi-couches :\n",
        "    # Elle consiste en la prédiction successive de chacune des couches de la liste de couches,\n",
        "    # chacune prenant en entrée la prédiction de la couche précédente\n",
        "    def forward(self, x_batch):\n",
        "    \n",
        "      for i in range(len(self.layers)):\n",
        "        ###  A COMPLETER\n",
        "\n",
        "      return ...\n",
        "\n",
        "    # Fonction de calcul des gradients de la fonction objectif par rapport à chaque paramètre \n",
        "    # du perceptron multi-couches\n",
        "    # L'entrée dy_hat correspond au gradient de la fonction objectif par rapport à la prédiction\n",
        "    # finale du perceptron multi-couches (notée dJ/dŷ sur la figure précédente)\n",
        "    # Cette fonction doit implémenter la rétropropagation du gradient : on parcourt la liste des\n",
        "    # couches en sens inverse (fonction reversed) et le gradient de la fonction objectif par rapport \n",
        "    # à l'entrée d'une couche est utilisé pour calculer les gradients de la couche précédente\n",
        "    # \n",
        "    # Cette fonction retourne une liste de dictionnaires de gradients, de même dimension que le nombre\n",
        "    # de couches\n",
        "    def backward(self, dy_hat):\n",
        "      gradients = []\n",
        "      for i in reversed(range(len(self.layers))):\n",
        "        ### A COMPLETER\n",
        "\n",
        "      return gradients\n",
        "\n",
        "    # Fonction de mise à jour des paramètres en fonction des gradients établis dans la \n",
        "    # fonction backward et d'un taux d'apprentissage\n",
        "    def update_parameters(self, gradients, learning_rate):\n",
        "      for i in range(len(self.layers)):\n",
        "        ### A COMPLETER"
      ]
    },
    {
      "cell_type": "markdown",
      "metadata": {
        "id": "GyIW025tVcPR"
      },
      "source": [
        "## Test sur le problème simple de classification binaire"
      ]
    },
    {
      "cell_type": "markdown",
      "metadata": {
        "id": "JEg5-Z7mVEWd"
      },
      "source": [
        "Vous pouvez maintenant tester votre perceptron multi-couches sur le problème précédent. Deux couches suffisent pour résoudre le problème !"
      ]
    },
    {
      "cell_type": "code",
      "execution_count": null,
      "metadata": {
        "id": "pijGm1ipwrAw"
      },
      "outputs": [],
      "source": [
        "x, y = datasets.make_gaussian_quantiles(n_samples=250, n_features=2, n_classes=2, random_state=1)\n",
        "\n",
        "plt.plot(x[y==0,0], x[y==0,1], 'r.')\n",
        "plt.plot(x[y==1,0], x[y==1,1], 'b.')\n",
        "\n",
        "plt.show()"
      ]
    },
    {
      "cell_type": "code",
      "execution_count": null,
      "metadata": {
        "id": "h3He5gXmxQ1j"
      },
      "outputs": [],
      "source": [
        "model = MultiLayerPerceptron()\n",
        "model.add_layer(DenseLayer(2, 10, 'relu'))\n",
        "model.add_layer(DenseLayer(10, 1, 'sigmoid'))\n",
        "\n",
        "model = SGD(x, y, model, 'bce', learning_rate=0.3, epochs=60, batch_size=20)\n",
        "\n",
        "print_decision_boundaries(model, x, y)"
      ]
    },
    {
      "cell_type": "markdown",
      "metadata": {
        "id": "SMTeraduVplm"
      },
      "source": [
        "# Quelques exercices supplémentaires"
      ]
    },
    {
      "cell_type": "markdown",
      "metadata": {
        "id": "46K0mq5bVvT1"
      },
      "source": [
        "## Evanescence du gradient"
      ]
    },
    {
      "cell_type": "markdown",
      "metadata": {
        "id": "pVBCGX9iVzdL"
      },
      "source": [
        "Testez le réseau suivant sur le problème simple de classification binaire évoqué dans la partie précédente :\n",
        "```python\n",
        "model.add_layer(DenseLayer(2, 10, 'sigmoid'))\n",
        "model.add_layer(DenseLayer(10, 10, 'sigmoid'))\n",
        "model.add_layer(DenseLayer(10, 10, 'sigmoid'))\n",
        "model.add_layer(DenseLayer(10, 10, 'sigmoid'))\n",
        "model.add_layer(DenseLayer(10, 1, 'sigmoid'))\n",
        "```\n",
        "\n",
        " \n",
        "\n",
        "1.   Qu'observez-vous ?\n",
        "2.   Comment résoudre ce problème ?\n",
        "\n",
        "\n"
      ]
    },
    {
      "cell_type": "markdown",
      "metadata": {
        "id": "YBChCCJREOuP"
      },
      "source": [
        "## Application à un problème de classification d'image\n"
      ]
    },
    {
      "cell_type": "markdown",
      "metadata": {
        "id": "C7efDmj6WNSg"
      },
      "source": [
        "Le code ci-dessous vous permet de charger l'ensemble de données CIFAR-10 qui regroupe des imagettes de taille $32 \\times 32$ représentant 10 types d'objets différents. \n",
        "\n",
        "Des images de chat et de chien sont extraites de cet ensemble : à vous de mettre en place un perceptron multi-couches de classification binaire pour apprendre à reconnaître un chien d'un chat dans une image."
      ]
    },
    {
      "cell_type": "code",
      "execution_count": null,
      "metadata": {
        "id": "ZFyeFRYfEN3A"
      },
      "outputs": [],
      "source": [
        "import tensorflow as tf\n",
        "\n",
        "# Récupération des données\n",
        "(x_train, y_train), (x_test, y_test) = tf.keras.datasets.cifar10.load_data()\n",
        "\n",
        "# La base de données CIFAR contient des images issues de 10 classes :\n",
        "# 0\tairplane\n",
        "# 1\tautomobile\n",
        "# 2\tbird\n",
        "# 3\tcat\n",
        "# 4\tdeer\n",
        "# 5\tdog\n",
        "# 6\tfrog\n",
        "# 7\thorse\n",
        "# 8\tship\n",
        "# 9\ttruck\n",
        "\n",
        "# Préparation des données pour la classification binaire : \n",
        "\n",
        "# Extraction des images des classes de chat et chien\n",
        "indices_train = np.squeeze(y_train)\n",
        "x_cat_train = x_train[indices_train==3,:]\n",
        "x_dog_train = x_train[indices_train==5,:]\n",
        "\n",
        "indices_test = np.squeeze(y_test)\n",
        "x_cat_test = x_test[indices_test==3,:]\n",
        "x_dog_test = x_test[indices_test==5,:]\n",
        "\n",
        "# Création des données d'apprentissage et de test\n",
        "# Les images sont redimensionnées en vecteurs de dimension 3072 (32*32*3)\n",
        "# On assigne 0 à la classe chat et 1 à la classe chien\n",
        "x_train = np.concatenate((np.resize(x_cat_train[0:250],(250, 32*32*3)), np.resize(x_dog_train[0:250],(250, 32*32*3))), axis=0)\n",
        "y_train = np.concatenate((np.zeros((250)), np.ones((250))),axis=0)\n",
        "\n",
        "x_test = np.concatenate((np.resize(x_cat_test,(1000, 32*32*3)), np.resize(x_dog_test,(1000, 32*32*3))), axis=0)\n",
        "y_test = np.concatenate((np.zeros((1000)), np.ones((1000))),axis=0)\n",
        "\n",
        "# Normalisation des entrées\n",
        "x_train = x_train/255\n",
        "x_test = x_test/255"
      ]
    },
    {
      "cell_type": "code",
      "execution_count": null,
      "metadata": {
        "id": "VBzhs000JbHT"
      },
      "outputs": [],
      "source": [
        "# A COMPLETER\n",
        "model = MultiLayerPerceptron()\n",
        "model.add_layer(DenseLayer(..., ..., ...))\n",
        "...\n",
        "# A vous de tester le nombre de couches qui vous semble adéquat\n",
        "\n",
        "model = SGD(x_train, y_train, model, ..., learning_rate=0.03, epochs=10, batch_size=10)"
      ]
    },
    {
      "cell_type": "code",
      "execution_count": null,
      "metadata": {
        "id": "hPUcXM60L0-b"
      },
      "outputs": [],
      "source": [
        "# Prédiction du modèle sur les données de test\n",
        "y_pred_test = model.forward(np.transpose(x_test))\n",
        "\n",
        "# Calcul de la précision : un écart inférieur à 0.5 entre prédiction et label\n",
        "#  est considéré comme bonne prédiction\n",
        "prediction_eval = np.where(np.abs(y_pred_test-y_test)<0.5, 1, 0)\n",
        "overall_test_precision = 100*np.sum(prediction_eval)/y_test.shape[0]\n",
        "print(f\"Précision de {overall_test_precision:2.1f} %\")"
      ]
    },
    {
      "cell_type": "markdown",
      "metadata": {
        "id": "A1jASzh3PSKa"
      },
      "source": [
        "Si vous obtenez une précision supérieure à 50%, votre réseau est meilleur qu'une prédiction aléatoire, ce qui est déjà bien ! Notez qu'ici nous avons circonscrit l'ensemble d'apprentissage à 500 échantillons (250 de chaque classe) car les calculs de produit matriciel sont longs. C'est tout l'intérêt de porter les calculs sur GPU ou TPU, des dispositifs matériels spécialement conçus et optimisés pour paralléliser ces calculs."
      ]
    },
    {
      "cell_type": "markdown",
      "metadata": {
        "id": "YV4WZTfL0KB9"
      },
      "source": [
        "## Utilisation de la librairie Keras"
      ]
    },
    {
      "cell_type": "markdown",
      "metadata": {
        "id": "XFR3jwelW1jh"
      },
      "source": [
        "L'utilisation d'une librairie comme Keras permet d'abstraire toutes les difficultés présentées dans ce TP : voici par exemple comment résoudre grâce à Keras le premier problème de régression linéaire présenté dans ce TP."
      ]
    },
    {
      "cell_type": "code",
      "execution_count": null,
      "metadata": {
        "id": "ew3_k9uK0P9g"
      },
      "outputs": [],
      "source": [
        "x, y = datasets.make_regression(n_samples=250, n_features=1, n_targets=1, random_state=1, noise=10)\n",
        "\n",
        "plt.plot(x, y, 'b.', label='Ensemble d\\'apprentissage')\n",
        "\n",
        "plt.legend()\n",
        "plt.show()"
      ]
    },
    {
      "cell_type": "code",
      "execution_count": null,
      "metadata": {
        "id": "jBQYiUU-XX9a"
      },
      "outputs": [],
      "source": [
        "from tensorflow.keras.models import Sequential\n",
        "from tensorflow.keras.layers import Dense\n",
        "\n",
        "model = Sequential()\n",
        "model.add(Dense(1, activation='linear', input_dim=1)) # input_dim indique la dimension de la couche d'entrée, ici 1\n",
        "\n",
        "model.summary() # affiche un résumé du modèle"
      ]
    },
    {
      "cell_type": "code",
      "execution_count": null,
      "metadata": {
        "id": "S0Vqoo26Xfe3"
      },
      "outputs": [],
      "source": [
        "from tensorflow.keras import optimizers\n",
        "\n",
        "sgd = optimizers.SGD(learning_rate=0.1) # On choisit la descente de gradient stochastique, avec un taux d'apprentssage de 0.1\n",
        "\n",
        "# On définit ici, pour le modèle introduit plus tôt, l'optimiseur choisi, la fonction de perte (ici\n",
        "# l'erreur quadratique moyenne pour un problème de régression) et les métriques que l'on veut observer pendant\n",
        "# l'entraînement. L'erreur absolue moyenne (MAE) est un indicateur plus simple à interpréter que la MSE.\n",
        "model.compile(optimizer=sgd,\n",
        "              loss='mean_squared_error',\n",
        "              metrics=['mae'])\n",
        "\n",
        "# Entraînement du modèle avec des mini-batchs de taille 20, sur 10 epochs. \n",
        "# Le paramètre validation_split signifie qu'on tire aléatoirement une partie des données\n",
        "# (ici 20%) pour servir d'ensemble de validation\n",
        "history = model.fit(x, y, validation_split=0.2, epochs=10, batch_size=20)\n"
      ]
    },
    {
      "cell_type": "code",
      "execution_count": null,
      "metadata": {
        "id": "46LiNDvGYQdK"
      },
      "outputs": [],
      "source": [
        "plt.plot(x, y, 'b.', label='Ensemble d\\'apprentissage')\n",
        "\n",
        "x_gen = np.expand_dims(np.linspace(-3, 3, 10), 1)\n",
        "y_gen = model.predict(x_gen)\n",
        "\n",
        "plt.plot(x_gen, y_gen, 'g-', label='Prédiction du modèle')\n",
        "plt.legend()\n",
        "plt.show()"
      ]
    },
    {
      "cell_type": "markdown",
      "metadata": {
        "id": "kHu5v6lUYqTm"
      },
      "source": [
        "S'il vous reste du temps, reprenez les différents problèmes définis précédemment et utilisez la librairie Keras pour les résoudre."
      ]
    }
  ],
  "metadata": {
    "colab": {
      "collapsed_sections": [],
      "name": "TP Réseaux de Neurones avec Numpy - Sujet.ipynb",
      "provenance": []
    },
    "coursera": {
      "course_slug": "nlp-sequence-models",
      "graded_item_id": "xxuVc",
      "launcher_item_id": "X20PE"
    },
    "kernelspec": {
      "display_name": "Python 3",
      "language": "python",
      "name": "python3"
    },
    "language_info": {
      "codemirror_mode": {
        "name": "ipython",
        "version": 3
      },
      "file_extension": ".py",
      "mimetype": "text/x-python",
      "name": "python",
      "nbconvert_exporter": "python",
      "pygments_lexer": "ipython3",
      "version": "3.8.10"
    },
    "toc": {
      "nav_menu": {},
      "number_sections": true,
      "sideBar": true,
      "skip_h1_title": false,
      "toc_cell": true,
      "toc_position": {},
      "toc_section_display": "block",
      "toc_window_display": false
    }
  },
  "nbformat": 4,
  "nbformat_minor": 0
}
